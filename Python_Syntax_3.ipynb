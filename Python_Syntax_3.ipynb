{
  "nbformat": 4,
  "nbformat_minor": 0,
  "metadata": {
    "kernelspec": {
      "display_name": "Python 3",
      "language": "python",
      "name": "python3"
    },
    "language_info": {
      "codemirror_mode": {
        "name": "ipython",
        "version": 3
      },
      "file_extension": ".py",
      "mimetype": "text/x-python",
      "name": "python",
      "nbconvert_exporter": "python",
      "pygments_lexer": "ipython3",
      "version": "3.7.4"
    },
    "colab": {
      "name": "Copy of Python Syntax 3.ipynb",
      "provenance": [],
      "collapsed_sections": [
        "IaxJmIeNbO6a",
        "PNc_RGZLbO7w"
      ]
    }
  },
  "cells": [
    {
      "cell_type": "markdown",
      "metadata": {
        "id": "jxxfILBObOwd",
        "colab_type": "text"
      },
      "source": [
        "# Intro to Python Syntax, Part 3\n",
        "## Code and Data Assignment"
      ]
    },
    {
      "cell_type": "markdown",
      "metadata": {
        "id": "C5GmRgsdbOwj",
        "colab_type": "text"
      },
      "source": [
        "## Python as an Ecosystem of Functions\n",
        "\n",
        "There are millions of functions that can be used in Python.  To access them, you first have to **import** their **packages/modules**.  Then you can specify the functions inside the packages using the following syntax:\n",
        "\n",
        "```python\n",
        "import package\n",
        "output = package.function(input)\n",
        "```\n",
        "\n",
        "Sometimes, packages have **subpackages** that contain functions, too:\n",
        "\n",
        "```python\n",
        "output = package.subpackage.function(input)\n",
        "```\n",
        "\n",
        "If you only need one subpackage in a function, you can make your lines shorter by importing the subpackage directly:\n",
        "\n",
        "```python\n",
        "from package import subpackage\n",
        "output = subpackage.function(input)\n",
        "```\n",
        "\n",
        "To get a list of functions in a package, try using the **dir()** function.  To learn what the function does, try the **help()** function.\n",
        "\n",
        "```python\n",
        "import math\n",
        "dir(math)\n",
        "help(math.sqrt)\n",
        "```\n"
      ]
    },
    {
      "cell_type": "markdown",
      "metadata": {
        "id": "vlh4bUWSbOwn",
        "colab_type": "text"
      },
      "source": [
        "Let's try out the built-in **math** and **statistics** packages to do some calculating!"
      ]
    },
    {
      "cell_type": "markdown",
      "metadata": {
        "id": "rC78BGf7bOwt",
        "colab_type": "text"
      },
      "source": [
        "What is the mean of all the integers from 1 to 6?"
      ]
    },
    {
      "cell_type": "code",
      "metadata": {
        "id": "-c_blzpFbOwx",
        "colab_type": "code",
        "outputId": "5e34cc67-adc2-4323-d17c-45ca3fdadd02",
        "colab": {
          "base_uri": "https://localhost:8080/",
          "height": 34
        }
      },
      "source": [
        "import statistics\n",
        "statistics.mean([1,2,3,4,5,6])\n"
      ],
      "execution_count": 0,
      "outputs": [
        {
          "output_type": "execute_result",
          "data": {
            "text/plain": [
              "3.5"
            ]
          },
          "metadata": {
            "tags": []
          },
          "execution_count": 17
        }
      ]
    },
    {
      "cell_type": "markdown",
      "metadata": {
        "id": "YW6pX7r8bOxP",
        "colab_type": "text"
      },
      "source": [
        "What is the standard deviation of the integers from 1 to 6?"
      ]
    },
    {
      "cell_type": "code",
      "metadata": {
        "id": "Vam5riSxbOxT",
        "colab_type": "code",
        "outputId": "800bc471-ecd1-475b-8163-a2f036061f2a",
        "colab": {
          "base_uri": "https://localhost:8080/",
          "height": 34
        }
      },
      "source": [
        "statistics.stdev([1,2,3,4,5,6])"
      ],
      "execution_count": 0,
      "outputs": [
        {
          "output_type": "execute_result",
          "data": {
            "text/plain": [
              "1.8708286933869707"
            ]
          },
          "metadata": {
            "tags": []
          },
          "execution_count": 18
        }
      ]
    },
    {
      "cell_type": "markdown",
      "metadata": {
        "id": "w40iIBH7bOxm",
        "colab_type": "text"
      },
      "source": [
        "What is the square root of 72?"
      ]
    },
    {
      "cell_type": "code",
      "metadata": {
        "id": "OALBYC63bOxr",
        "colab_type": "code",
        "outputId": "0ce91071-dbf6-4105-eaeb-4c2ed5babe4e",
        "colab": {
          "base_uri": "https://localhost:8080/",
          "height": 34
        }
      },
      "source": [
        "math.sqrt(72)"
      ],
      "execution_count": 0,
      "outputs": [
        {
          "output_type": "execute_result",
          "data": {
            "text/plain": [
              "8.48528137423857"
            ]
          },
          "metadata": {
            "tags": []
          },
          "execution_count": 20
        }
      ]
    },
    {
      "cell_type": "markdown",
      "metadata": {
        "id": "xrZLV9o3bOyC",
        "colab_type": "text"
      },
      "source": [
        "What is pi?"
      ]
    },
    {
      "cell_type": "code",
      "metadata": {
        "id": "KTPIQARSbOyG",
        "colab_type": "code",
        "outputId": "be117810-cc65-4d3b-9298-1613dd8a4eca",
        "colab": {
          "base_uri": "https://localhost:8080/",
          "height": 34
        }
      },
      "source": [
        "math.pi"
      ],
      "execution_count": 0,
      "outputs": [
        {
          "output_type": "execute_result",
          "data": {
            "text/plain": [
              "3.141592653589793"
            ]
          },
          "metadata": {
            "tags": []
          },
          "execution_count": 21
        }
      ]
    },
    {
      "cell_type": "markdown",
      "metadata": {
        "id": "hc8mK7qQbOyh",
        "colab_type": "text"
      },
      "source": [
        "What how many radians are in 360 degrees?"
      ]
    },
    {
      "cell_type": "code",
      "metadata": {
        "id": "1mUKTyeqbOyk",
        "colab_type": "code",
        "outputId": "cbb7b910-81a0-4ffc-f7e8-870a7fc579f9",
        "colab": {
          "base_uri": "https://localhost:8080/",
          "height": 34
        }
      },
      "source": [
        "math.radians(360)"
      ],
      "execution_count": 0,
      "outputs": [
        {
          "output_type": "execute_result",
          "data": {
            "text/plain": [
              "6.283185307179586"
            ]
          },
          "metadata": {
            "tags": []
          },
          "execution_count": 22
        }
      ]
    },
    {
      "cell_type": "markdown",
      "metadata": {
        "id": "nBpJem9obOy3",
        "colab_type": "text"
      },
      "source": [
        "Can you find a package that might have functions for random numbers?  Use it to generate a couple random numbers!"
      ]
    },
    {
      "cell_type": "code",
      "metadata": {
        "id": "6EHlkH1zbOy6",
        "colab_type": "code",
        "outputId": "135888f4-c949-43f6-be5f-3e92802c29c5",
        "colab": {
          "base_uri": "https://localhost:8080/",
          "height": 34
        }
      },
      "source": [
        "import random\n",
        "random.seed(42)\n",
        "random.randint(1,100), random.randint(1,100)"
      ],
      "execution_count": 0,
      "outputs": [
        {
          "output_type": "execute_result",
          "data": {
            "text/plain": [
              "(82, 15)"
            ]
          },
          "metadata": {
            "tags": []
          },
          "execution_count": 50
        }
      ]
    },
    {
      "cell_type": "markdown",
      "metadata": {
        "id": "MjBlNnCIbOzN",
        "colab_type": "text"
      },
      "source": [
        "Look for names of some more built-in packages online!  Try importing them here."
      ]
    },
    {
      "cell_type": "code",
      "metadata": {
        "id": "kH3aoM1MbOzR",
        "colab_type": "code",
        "colab": {}
      },
      "source": [
        "import pandas as pd\n",
        "import numpy as np\n"
      ],
      "execution_count": 0,
      "outputs": []
    },
    {
      "cell_type": "markdown",
      "metadata": {
        "id": "eZLurRSsbOzi",
        "colab_type": "text"
      },
      "source": [
        "## Python as State Machine\n",
        "\n",
        "Python can save all of its **objects** to your computer's internal memory by **assigning** a a **name** to it.  This is like giving the object a tag that can be referenced later, and it has many subtleties that we'll be exploring throughout the course.  Here's the syntax:\n",
        "\n",
        "```\n",
        "name = data\n",
        "```\n",
        "\n",
        "For example:\n",
        "\n",
        "```python\n",
        "x = 3\n",
        "nick = 100\n",
        "j_people = [\"John\", \"Jeff\", \"Judy\", \"Jenny\"]\n",
        "x2 = 4\n",
        "```\n",
        "\n",
        "While it looks like a normal math expression, this is, in reality, a **statement**; it changes the state of the program.  Let's explore it here:\n",
        "\n"
      ]
    },
    {
      "cell_type": "markdown",
      "metadata": {
        "id": "OwShK5azbOzk",
        "colab_type": "text"
      },
      "source": [
        "#### Exercises"
      ]
    },
    {
      "cell_type": "markdown",
      "metadata": {
        "id": "F9fu0NudbOzn",
        "colab_type": "text"
      },
      "source": [
        "What should **x** equal?\n",
        "```\n",
        "x = 3\n",
        "x = 4\n"
      ]
    },
    {
      "cell_type": "code",
      "metadata": {
        "id": "4ZF7WgGzbOzp",
        "colab_type": "code",
        "outputId": "c8424602-a6be-449e-84ec-703993bf30d9",
        "colab": {
          "base_uri": "https://localhost:8080/",
          "height": 34
        }
      },
      "source": [
        "4\n"
      ],
      "execution_count": 0,
      "outputs": [
        {
          "output_type": "execute_result",
          "data": {
            "text/plain": [
              "4"
            ]
          },
          "metadata": {
            "tags": []
          },
          "execution_count": 31
        }
      ]
    },
    {
      "cell_type": "markdown",
      "metadata": {
        "id": "bPzfMdb7bOz8",
        "colab_type": "text"
      },
      "source": [
        "```python\n",
        "x = 3\n",
        "x = x + 1\n",
        "x = x + 1\n",
        "x = x + 1\n",
        "```"
      ]
    },
    {
      "cell_type": "code",
      "metadata": {
        "id": "2Rjb6rzLbO0E",
        "colab_type": "code",
        "colab": {}
      },
      "source": [
        "6"
      ],
      "execution_count": 0,
      "outputs": []
    },
    {
      "cell_type": "markdown",
      "metadata": {
        "id": "T7IODA8ybO0c",
        "colab_type": "text"
      },
      "source": [
        "```python\n",
        "x = 3\n",
        "x += 1\n",
        "x += 1\n",
        "x += 1\n",
        "```"
      ]
    },
    {
      "cell_type": "code",
      "metadata": {
        "id": "tE79C8W5bO0g",
        "colab_type": "code",
        "colab": {}
      },
      "source": [
        "6"
      ],
      "execution_count": 0,
      "outputs": []
    },
    {
      "cell_type": "markdown",
      "metadata": {
        "id": "Ha1QVeWwbO0w",
        "colab_type": "text"
      },
      "source": [
        "```python\n",
        "x = \"Nick\"\n",
        "x = 0\n",
        "```"
      ]
    },
    {
      "cell_type": "code",
      "metadata": {
        "id": "Y1BHXU4sbO0z",
        "colab_type": "code",
        "colab": {}
      },
      "source": [
        "0"
      ],
      "execution_count": 0,
      "outputs": []
    },
    {
      "cell_type": "markdown",
      "metadata": {
        "id": "CTOMMEIfbO0_",
        "colab_type": "text"
      },
      "source": [
        "```python\n",
        "max = sum\n",
        "x = max([1, 2, 3])\n",
        "```"
      ]
    },
    {
      "cell_type": "code",
      "metadata": {
        "id": "_qegJZZtbO1C",
        "colab_type": "code",
        "colab": {}
      },
      "source": [
        "6"
      ],
      "execution_count": 0,
      "outputs": []
    },
    {
      "cell_type": "markdown",
      "metadata": {
        "id": "JVW50dZJbO1W",
        "colab_type": "text"
      },
      "source": [
        "```python\n",
        "max = sum\n",
        "x = sum([1, 2, 3])\n",
        "```"
      ]
    },
    {
      "cell_type": "code",
      "metadata": {
        "id": "EB7o8lxTbO1Y",
        "colab_type": "code",
        "colab": {}
      },
      "source": [
        "6"
      ],
      "execution_count": 0,
      "outputs": []
    },
    {
      "cell_type": "markdown",
      "metadata": {
        "id": "goU2a9ytbO1h",
        "colab_type": "text"
      },
      "source": [
        "```python\n",
        "x = [1, 2, 3]\n",
        "x[1] = 4\n",
        "```"
      ]
    },
    {
      "cell_type": "code",
      "metadata": {
        "id": "1Q7rI6ombO1k",
        "colab_type": "code",
        "colab": {}
      },
      "source": [
        "[1,4,3]"
      ],
      "execution_count": 0,
      "outputs": []
    },
    {
      "cell_type": "markdown",
      "metadata": {
        "id": "hVt7ae3GbO10",
        "colab_type": "text"
      },
      "source": [
        "```python\n",
        "x = [1, 2, 3]\n",
        "x[-1] = 4\n",
        "```"
      ]
    },
    {
      "cell_type": "code",
      "metadata": {
        "id": "HoHa9lcIbO12",
        "colab_type": "code",
        "colab": {}
      },
      "source": [
        "[1,2,4]"
      ],
      "execution_count": 0,
      "outputs": []
    },
    {
      "cell_type": "markdown",
      "metadata": {
        "id": "Dqn6kNj5bO2M",
        "colab_type": "text"
      },
      "source": [
        "```python\n",
        "x = [1, 2, 3]\n",
        "x[0] = 4\n",
        "```"
      ]
    },
    {
      "cell_type": "code",
      "metadata": {
        "id": "hI25-peibO2P",
        "colab_type": "code",
        "colab": {}
      },
      "source": [
        "[4,2,3]"
      ],
      "execution_count": 0,
      "outputs": []
    },
    {
      "cell_type": "markdown",
      "metadata": {
        "id": "Y5ba8yoEbO2d",
        "colab_type": "text"
      },
      "source": [
        "```python\n",
        "x = [1, 2, 3]\n",
        "x = x[1]\n",
        "x *= 2\n",
        "```"
      ]
    },
    {
      "cell_type": "code",
      "metadata": {
        "id": "mATpTYPMbO2f",
        "colab_type": "code",
        "colab": {}
      },
      "source": [
        "4"
      ],
      "execution_count": 0,
      "outputs": []
    },
    {
      "cell_type": "markdown",
      "metadata": {
        "id": "RT6YTtVjbO2p",
        "colab_type": "text"
      },
      "source": [
        "### Mapping Collections: Transforming Each Element of a Collection\n",
        "\n",
        "Often, you want to do something to the data inside your collection--double it, increase it, compute some metric, etc.  \n",
        "At the end, you still have the same *number* of elements, but the values themselves have changed.  \n",
        "We will be looking at lots of ways to accomplish this in  Python, but first we're going to use a **for-loop** in a format called a **comprehension**.\n",
        "\n",
        "Comprehensions produce a new collection containing new values *\"for each\"* value *in* the original collection.  They look like this:\n",
        "\n",
        "```python\n",
        ">>> data = [1, 2, 3]\n",
        ">>> list(x * 2 for x in data)\n",
        "[1, 4, 9]\n",
        "```\n",
        "\n",
        "The code above does the same as the following:\n",
        "```python\n",
        ">>> data = [1, 2, 3]\n",
        ">>> [data[0] * 2, data[1] * 2, data[2] * 2]\n",
        "[1, 4, 9]\n",
        "```\n",
        "\n",
        "Another example:\n",
        "\n",
        "```python\n",
        ">>> data = [1, 2, 3]\n",
        ">>> tuple(math.sqrt(value) + 2 for value in data)\n",
        "(3.0, 3.414, 3.732)\n",
        "```\n",
        "\n",
        "```python\n",
        ">>> data = [1, 2, 3]\n",
        ">>> (math.sqrt(data[0]) + 2, math.sqrt(data[1]) + 2, math.sqrt(data[2]) + 2)\n",
        "(3.0, 3.414, 3.732)\n",
        "```\n",
        "\n",
        "Notice that the variable **x** and **value** are created without using the assignment operator! You can name this anything you want, and it is created anew for each individual element of the collection.\n",
        "\n",
        "For lists, Python has a shortcut (called a **list comprehension**):\n",
        "\n",
        "```python\n",
        ">>> data = [1, 2, 3]\n",
        ">>> [x * 2 for x in data]\n",
        "[1, 4, 9]\n",
        "```\n",
        "\n",
        "There is also one for dict (**\"dict comprehensions\"**), but not for any other type.  See below:\n",
        "\n",
        "```python\n",
        ">>> data = [1, 2, 3]\n",
        ">>> {x: x * 2 for x in data}\n",
        "{1: 1, 2: 4, 3: 9}\n",
        "```"
      ]
    },
    {
      "cell_type": "markdown",
      "metadata": {
        "id": "J9uiSjVWbO2r",
        "colab_type": "text"
      },
      "source": [
        "**Exercises**: Transform each value in the given collection into the requested collection type using the requested transformation\n",
        "\n",
        "Example: A tuple of each value in \"data\", with each value increased by 3\n",
        "```python\n",
        ">>> data = [10, 20, 30]\n",
        ">>> tuple(x + 3 for x in data)\n",
        "(13, 23, 33)\n",
        "```"
      ]
    },
    {
      "cell_type": "markdown",
      "metadata": {
        "id": "JzSPzLpbbO2t",
        "colab_type": "text"
      },
      "source": [
        "1. Make a list that adds 1 to each value in \"data\":"
      ]
    },
    {
      "cell_type": "code",
      "metadata": {
        "id": "tEl1paqabO2u",
        "colab_type": "code",
        "outputId": "756458a4-e12a-4b98-dee4-66f59cb4452e",
        "colab": {
          "base_uri": "https://localhost:8080/",
          "height": 34
        }
      },
      "source": [
        "data = [1, 2, 3]\n",
        "list(x+1 for x in data )"
      ],
      "execution_count": 0,
      "outputs": [
        {
          "output_type": "execute_result",
          "data": {
            "text/plain": [
              "[2, 3, 4]"
            ]
          },
          "metadata": {
            "tags": []
          },
          "execution_count": 32
        }
      ]
    },
    {
      "cell_type": "markdown",
      "metadata": {
        "id": "CCge71V-bO23",
        "colab_type": "text"
      },
      "source": [
        "2. Make a tuple that calculates the absolute value of each element in \"data\", using the built-in abs() function:"
      ]
    },
    {
      "cell_type": "code",
      "metadata": {
        "id": "lj1exJnAbO25",
        "colab_type": "code",
        "outputId": "66505bfe-5073-4706-9828-a7dcb38b2e87",
        "colab": {
          "base_uri": "https://localhost:8080/",
          "height": 34
        }
      },
      "source": [
        "data = (-2, -1, 0, 1, 2)\n",
        "tuple(abs(x) for x in data)"
      ],
      "execution_count": 0,
      "outputs": [
        {
          "output_type": "execute_result",
          "data": {
            "text/plain": [
              "(2, 1, 0, 1, 2)"
            ]
          },
          "metadata": {
            "tags": []
          },
          "execution_count": 33
        }
      ]
    },
    {
      "cell_type": "markdown",
      "metadata": {
        "id": "Sh0goeHbbO3N",
        "colab_type": "text"
      },
      "source": [
        "2b. Make a list of the cosines of each value in \"data\":"
      ]
    },
    {
      "cell_type": "code",
      "metadata": {
        "id": "Q2dM6bR0bO3Z",
        "colab_type": "code",
        "outputId": "071e1d90-b95e-4e57-8bc3-68d9f0c66f30",
        "colab": {
          "base_uri": "https://localhost:8080/",
          "height": 119
        }
      },
      "source": [
        "\n",
        "data = (-2, -1, 0, 1, 2, 3)\n",
        "list(math.cos(x) for x in data)"
      ],
      "execution_count": 0,
      "outputs": [
        {
          "output_type": "execute_result",
          "data": {
            "text/plain": [
              "[-0.4161468365471424,\n",
              " 0.5403023058681398,\n",
              " 1.0,\n",
              " 0.5403023058681398,\n",
              " -0.4161468365471424,\n",
              " -0.9899924966004454]"
            ]
          },
          "metadata": {
            "tags": []
          },
          "execution_count": 36
        }
      ]
    },
    {
      "cell_type": "markdown",
      "metadata": {
        "id": "9rba4QrtbO3t",
        "colab_type": "text"
      },
      "source": [
        "2c. Round all these numbers to the nearest integer (use the \"round()\" function):"
      ]
    },
    {
      "cell_type": "code",
      "metadata": {
        "id": "RRL0ilGzbO3v",
        "colab_type": "code",
        "outputId": "1f431526-2508-4656-9624-7e3a76651f1b",
        "colab": {
          "base_uri": "https://localhost:8080/",
          "height": 34
        }
      },
      "source": [
        "data = [1.2, 1.5, 0.7, -2.1]\n",
        "list(round(x) for x in data)"
      ],
      "execution_count": 0,
      "outputs": [
        {
          "output_type": "execute_result",
          "data": {
            "text/plain": [
              "[1, 2, 1, -2]"
            ]
          },
          "metadata": {
            "tags": []
          },
          "execution_count": 38
        }
      ]
    },
    {
      "cell_type": "markdown",
      "metadata": {
        "id": "Y3Uq1xBLbO36",
        "colab_type": "text"
      },
      "source": [
        "3. Make a list of all the first letters of each name in the list:"
      ]
    },
    {
      "cell_type": "code",
      "metadata": {
        "id": "2dm2t4vVbO3-",
        "colab_type": "code",
        "outputId": "866aa34b-f40d-4b60-c295-659fed9fb37f",
        "colab": {
          "base_uri": "https://localhost:8080/",
          "height": 34
        }
      },
      "source": [
        "data = [\"John\", \"Harry\", \"Moe\", \"Luke\"]\n",
        "list(x[0]for x in data)"
      ],
      "execution_count": 0,
      "outputs": [
        {
          "output_type": "execute_result",
          "data": {
            "text/plain": [
              "['J', 'H', 'M', 'L']"
            ]
          },
          "metadata": {
            "tags": []
          },
          "execution_count": 39
        }
      ]
    },
    {
      "cell_type": "markdown",
      "metadata": {
        "id": "DXz8_KmzbO4H",
        "colab_type": "text"
      },
      "source": [
        "4. Make a tuple of the lengths of each name:"
      ]
    },
    {
      "cell_type": "code",
      "metadata": {
        "id": "0pOYMrTPbO4I",
        "colab_type": "code",
        "outputId": "1a0ccdc3-b1f3-431e-9bc7-036cfc03b506",
        "colab": {
          "base_uri": "https://localhost:8080/",
          "height": 34
        }
      },
      "source": [
        "data = [\"John\", \"Harry\", \"Moe\", \"Luke\"]\n",
        "tuple(len(x)for x in data)"
      ],
      "execution_count": 0,
      "outputs": [
        {
          "output_type": "execute_result",
          "data": {
            "text/plain": [
              "(4, 5, 3, 4)"
            ]
          },
          "metadata": {
            "tags": []
          },
          "execution_count": 40
        }
      ]
    },
    {
      "cell_type": "markdown",
      "metadata": {
        "id": "FuRyJgvfbO4V",
        "colab_type": "text"
      },
      "source": [
        "5. Make a dictionary that maps all the words in the list to their length:"
      ]
    },
    {
      "cell_type": "code",
      "metadata": {
        "id": "RyojlIMqbO4X",
        "colab_type": "code",
        "outputId": "465fdf54-b4cf-4fb3-ea6c-230d7a61d630",
        "colab": {
          "base_uri": "https://localhost:8080/",
          "height": 34
        }
      },
      "source": [
        "data = [\"John\", \"Harry\", \"Moe\", \"Luke\"]\n",
        "{x : len(x) for x in data}"
      ],
      "execution_count": 0,
      "outputs": [
        {
          "output_type": "execute_result",
          "data": {
            "text/plain": [
              "{'Harry': 5, 'John': 4, 'Luke': 4, 'Moe': 3}"
            ]
          },
          "metadata": {
            "tags": []
          },
          "execution_count": 52
        }
      ]
    },
    {
      "cell_type": "markdown",
      "metadata": {
        "id": "DmjcLoEPbO4o",
        "colab_type": "text"
      },
      "source": [
        "6. Make a set of all the word lengths in the tuple:"
      ]
    },
    {
      "cell_type": "code",
      "metadata": {
        "id": "nvUTohdIbO4r",
        "colab_type": "code",
        "outputId": "85ca9513-17ff-44c6-f641-cdc55c92c1cf",
        "colab": {
          "base_uri": "https://localhost:8080/",
          "height": 34
        }
      },
      "source": [
        "data = (\"John\", \"Harry\", \"Moe\", \"Luke\")\n",
        "set(len(x)for x in data)"
      ],
      "execution_count": 0,
      "outputs": [
        {
          "output_type": "execute_result",
          "data": {
            "text/plain": [
              "{3, 4, 5}"
            ]
          },
          "metadata": {
            "tags": []
          },
          "execution_count": 46
        }
      ]
    },
    {
      "cell_type": "markdown",
      "metadata": {
        "id": "wBbo4hHGbO42",
        "colab_type": "text"
      },
      "source": [
        "### Filtering Collections\n",
        "\n",
        "What if you only want to include *some* values in a collection?  With the **if** statement and a **logical expression**, you can do it in a comprehension!  For example:\n",
        "\n",
        "```python\n",
        ">>> data = [1, 2, 3, 4]\n",
        ">>> [x for x in data if x > 2]\n",
        "[3, 4]\n",
        "```\n",
        "\n",
        "This can be combined with various transformations as well!\n",
        "\n",
        "```python\n",
        ">>> data = [\"John\", \"Harry\", \"Moe\", \"Luke\"]\n",
        ">>> [x[0] for x in data if len(x) < 5]\n",
        "[\"J\", \"M\", \"L\"]\n",
        "```"
      ]
    },
    {
      "cell_type": "markdown",
      "metadata": {
        "id": "wxR_yh1IbO44",
        "colab_type": "text"
      },
      "source": [
        "**Exercises**:"
      ]
    },
    {
      "cell_type": "markdown",
      "metadata": {
        "id": "Q3mGDXuXbO46",
        "colab_type": "text"
      },
      "source": [
        "Get All positive values in the following list:"
      ]
    },
    {
      "cell_type": "code",
      "metadata": {
        "id": "IxqvJNwVbO48",
        "colab_type": "code",
        "outputId": "11b54879-ac09-46e7-ab07-ac86ccf5ca83",
        "colab": {
          "base_uri": "https://localhost:8080/",
          "height": 34
        }
      },
      "source": [
        "data = [-6, 3, -1, 10, -5, 0]\n",
        "[x for x in data if x>0]"
      ],
      "execution_count": 0,
      "outputs": [
        {
          "output_type": "execute_result",
          "data": {
            "text/plain": [
              "[3, 10]"
            ]
          },
          "metadata": {
            "tags": []
          },
          "execution_count": 48
        }
      ]
    },
    {
      "cell_type": "markdown",
      "metadata": {
        "id": "GUf8tpN7bO5G",
        "colab_type": "text"
      },
      "source": [
        "Make a tuple of all names that start with the letter \"L\":"
      ]
    },
    {
      "cell_type": "code",
      "metadata": {
        "id": "rSOkwOp2bO5H",
        "colab_type": "code",
        "outputId": "f9927c09-350d-4087-9bc0-252f830dd8bd",
        "colab": {
          "base_uri": "https://localhost:8080/",
          "height": 34
        }
      },
      "source": [
        "data = (\"John\", \"Harry\", \"Moe\", \"Luke\")\n",
        "tuple(x for x in data if x[0] =='L')"
      ],
      "execution_count": 0,
      "outputs": [
        {
          "output_type": "execute_result",
          "data": {
            "text/plain": [
              "('Luke',)"
            ]
          },
          "metadata": {
            "tags": []
          },
          "execution_count": 49
        }
      ]
    },
    {
      "cell_type": "markdown",
      "metadata": {
        "id": "s65uj5qfbO5R",
        "colab_type": "text"
      },
      "source": [
        "Make a list of all names that have more than 3 letters in the name:"
      ]
    },
    {
      "cell_type": "code",
      "metadata": {
        "id": "TQGl0TwObO5T",
        "colab_type": "code",
        "colab": {}
      },
      "source": [
        "data = (\"John\", \"Harry\", \"Moe\", \"Luke\")"
      ],
      "execution_count": 0,
      "outputs": []
    },
    {
      "cell_type": "markdown",
      "metadata": {
        "id": "5mQj65B6bO5i",
        "colab_type": "text"
      },
      "source": [
        "Make a list of the last letter of all names that have more than 3 letters in the name:"
      ]
    },
    {
      "cell_type": "code",
      "metadata": {
        "id": "0FtWWDj8bO5k",
        "colab_type": "code",
        "colab": {}
      },
      "source": [
        "data = (\"John\", \"Harry\", \"Moe\", \"Luke\")"
      ],
      "execution_count": 0,
      "outputs": []
    },
    {
      "cell_type": "markdown",
      "metadata": {
        "id": "2oVyBhp2bO52",
        "colab_type": "text"
      },
      "source": [
        "Make a list of all values who have positive cosines:"
      ]
    },
    {
      "cell_type": "code",
      "metadata": {
        "id": "p93vVsywbO54",
        "colab_type": "code",
        "colab": {}
      },
      "source": [
        "data = [1, 2, 3, 4, 5, 6, 7]"
      ],
      "execution_count": 0,
      "outputs": []
    },
    {
      "cell_type": "markdown",
      "metadata": {
        "id": "9saXLRYFbO6G",
        "colab_type": "text"
      },
      "source": [
        "Make a dictionary, mapping each name to its length, but only if the sine of its length is positive:"
      ]
    },
    {
      "cell_type": "code",
      "metadata": {
        "id": "_w5JBQSQbO6I",
        "colab_type": "code",
        "colab": {}
      },
      "source": [
        "data = [\"John\", \"Harry\", \"Moe\", \"Luke\"]"
      ],
      "execution_count": 0,
      "outputs": []
    },
    {
      "cell_type": "markdown",
      "metadata": {
        "id": "IaxJmIeNbO6a",
        "colab_type": "text"
      },
      "source": [
        "### Combining Them: Filtering, Transforming, and Aggregating\n",
        "\n",
        "Okay, let's combine everything together into a single step!  To get the minimum value of the squares of all values less than 0 in the following list:\n",
        "\n",
        "```python\n",
        ">>> data = [-5, -3, 1, 2, 3]\n",
        ">>> min(x ** 2 for x in data if x < 0)\n",
        "9\n",
        "```\n",
        "\n",
        "Let's try it out!"
      ]
    },
    {
      "cell_type": "markdown",
      "metadata": {
        "id": "JERXilr3bO6c",
        "colab_type": "text"
      },
      "source": [
        "**Exercises**:"
      ]
    },
    {
      "cell_type": "markdown",
      "metadata": {
        "id": "iDCPxhGsbO6e",
        "colab_type": "text"
      },
      "source": [
        "The sum of all squares for all values in the dataset [1, 7, 3, 4, 9] greater than 4."
      ]
    },
    {
      "cell_type": "code",
      "metadata": {
        "id": "RSuAhoT4bO6g",
        "colab_type": "code",
        "colab": {}
      },
      "source": [
        ""
      ],
      "execution_count": 0,
      "outputs": []
    },
    {
      "cell_type": "markdown",
      "metadata": {
        "id": "VFPNjYFAbO6x",
        "colab_type": "text"
      },
      "source": [
        "The minimum length of all names in the list who has at least 4 unique letters in their name: [\"Bobby\", \"Cindy\", \"Anna\", \"Joshua\", \"Alan\", \"Hannah\", \"Jeffrey\"]"
      ]
    },
    {
      "cell_type": "code",
      "metadata": {
        "id": "cJU7lXH3bO62",
        "colab_type": "code",
        "colab": {}
      },
      "source": [
        ""
      ],
      "execution_count": 0,
      "outputs": []
    },
    {
      "cell_type": "markdown",
      "metadata": {
        "id": "6aH6QGAvbO7A",
        "colab_type": "text"
      },
      "source": [
        "The total length of all the names in the list that starts with an \"R\": [\"Joey\", \"Monica\", \"Chandler\", \"Rachel\", \"Ross\", \"Phoebe\"]"
      ]
    },
    {
      "cell_type": "code",
      "metadata": {
        "id": "vUt09a8UbO7C",
        "colab_type": "code",
        "colab": {}
      },
      "source": [
        ""
      ],
      "execution_count": 0,
      "outputs": []
    },
    {
      "cell_type": "code",
      "metadata": {
        "id": "ObBVUEdUbO7e",
        "colab_type": "code",
        "colab": {}
      },
      "source": [
        ""
      ],
      "execution_count": 0,
      "outputs": []
    },
    {
      "cell_type": "markdown",
      "metadata": {
        "id": "PNc_RGZLbO7w",
        "colab_type": "text"
      },
      "source": [
        "### Chaining Them: Repeatedly Filtering and Transforming before Aggregating\n",
        "Often, data analysis pipelines require multiple repeated transforms and filters before the analysis is complete.  This can get quite unwieldy, to say the least.  For example:"
      ]
    },
    {
      "cell_type": "code",
      "metadata": {
        "id": "EaQSAb09bO7z",
        "colab_type": "code",
        "outputId": "35ce2e9b-fdfe-4f97-c674-9694106c8f3e",
        "colab": {}
      },
      "source": [
        "tuple(x for x in (x ** 2 for x in (len(x) for x in (x for x in [\"Joey\", \"Monica\", \"Chandler\", \"Rachel\", \"Ross\", \"Phoebe\"]) if x[0] == 'R') if x < 10) if x < 36)"
      ],
      "execution_count": 0,
      "outputs": [
        {
          "output_type": "execute_result",
          "data": {
            "text/plain": [
              "(16,)"
            ]
          },
          "metadata": {
            "tags": []
          },
          "execution_count": 21
        }
      ]
    },
    {
      "cell_type": "markdown",
      "metadata": {
        "id": "WYG6lzxHbO8D",
        "colab_type": "text"
      },
      "source": [
        "You could split this into multiple lines, but it doesn't always help keep it readable.  For example:"
      ]
    },
    {
      "cell_type": "code",
      "metadata": {
        "id": "LMMzl0oFbO8E",
        "colab_type": "code",
        "outputId": "7ba8a57c-9767-4ce2-a5a9-1e203671d005",
        "colab": {}
      },
      "source": [
        "tuple \\\n",
        "(x for x in \n",
        "(x ** 2 for x in \n",
        "(len(x) for x in\n",
        "(x for x in \n",
        "[\"Joey\", \"Monica\", \"Chandler\", \"Rachel\", \"Ross\", \"Phoebe\"])\n",
        "if x[0] == 'R')\n",
        "if x < 10) \n",
        "if x < 36)"
      ],
      "execution_count": 0,
      "outputs": [
        {
          "output_type": "execute_result",
          "data": {
            "text/plain": [
              "(16,)"
            ]
          },
          "metadata": {
            "tags": []
          },
          "execution_count": 22
        }
      ]
    },
    {
      "cell_type": "markdown",
      "metadata": {
        "id": "NlzHvLx2bO8Y",
        "colab_type": "text"
      },
      "source": [
        "The simplest way is to just split it into multiple steps:"
      ]
    },
    {
      "cell_type": "code",
      "metadata": {
        "id": "rtU_GE-zbO8b",
        "colab_type": "code",
        "outputId": "395b49be-7f20-49a3-b07a-c96ae77921aa",
        "colab": {}
      },
      "source": [
        "friends = [\"Joey\", \"Monica\", \"Chandler\", \"Rachel\", \"Ross\", \"Phoebe\"]\n",
        "friends = [len(x) for x in friends if x[0] == 'R']\n",
        "friends = [x ** 2 for x in friends if x < 10]\n",
        "tuple(x for x in friends if x < 36)"
      ],
      "execution_count": 0,
      "outputs": [
        {
          "output_type": "execute_result",
          "data": {
            "text/plain": [
              "(16,)"
            ]
          },
          "metadata": {
            "tags": []
          },
          "execution_count": 24
        }
      ]
    },
    {
      "cell_type": "markdown",
      "metadata": {
        "id": "DfUh8utVbO9E",
        "colab_type": "text"
      },
      "source": [
        "This is a little better, but it can be a lot simpler.  We will be looking at many ways to make it easier for us to transform and filter data in later units."
      ]
    },
    {
      "cell_type": "markdown",
      "metadata": {
        "id": "4Spw2L35bO9L",
        "colab_type": "text"
      },
      "source": [
        "## Review: Class Discussion\n",
        "\n",
        "  1. Python has a lot of symbols in its syntax.  What are they, and what are they used for?\n",
        "  2. What are functions?  How do you use them?  Where can you get them?\n",
        "  3. What kinds of data collections are built-in to Python?  What concepts do they represent?\n",
        "  4. What is a \"logical expression\"?  What is a \"state change\"?\n",
        "  5. What is the \"for...in\" statement about?  How do you use it?\n",
        "  6. What is the \"if\" statement about?  How do you use it?\n",
        "  7. Would you like a coffee break?"
      ]
    }
  ]
}